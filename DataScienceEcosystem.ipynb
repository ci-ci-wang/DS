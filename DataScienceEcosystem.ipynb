{
 "cells": [
  {
   "cell_type": "markdown",
   "id": "4b787742",
   "metadata": {},
   "source": [
    "# Data Science Tools and Ecosystem"
   ]
  },
  {
   "cell_type": "markdown",
   "id": "c009f086",
   "metadata": {},
   "source": [
    "In this notebook, Data Sciene Tools and Ecosystme are summarized."
   ]
  },
  {
   "cell_type": "markdown",
   "id": "75598f75",
   "metadata": {},
   "source": [
    "**Objectives:**"
   ]
  },
  {
   "cell_type": "markdown",
   "id": "30b2f97b",
   "metadata": {},
   "source": [
    "* List popular languages for Data Science\n",
    "* Commonly used libraries by Data Science\n",
    "* Data Sceience Tools\n",
    "* Arithmetic expression"
   ]
  },
  {
   "cell_type": "markdown",
   "id": "988a0dce",
   "metadata": {},
   "source": [
    "Some of the popular languages that Data Scientis use are: "
   ]
  },
  {
   "cell_type": "markdown",
   "id": "520b8743",
   "metadata": {},
   "source": [
    "1. Python\n",
    "2. R\n",
    "3. C++"
   ]
  },
  {
   "cell_type": "markdown",
   "id": "d66f7cd7",
   "metadata": {},
   "source": [
    "Some of the commonly used libraryies used by Data Scientists include:"
   ]
  },
  {
   "cell_type": "markdown",
   "id": "af2297c2",
   "metadata": {},
   "source": [
    "1. panda\n",
    "2. ggplot\n",
    "3. numpy"
   ]
  },
  {
   "cell_type": "markdown",
   "id": "be8ad5de",
   "metadata": {},
   "source": [
    "|Data Science Tools|\n",
    "|--------|\n",
    "|Apach Spark|\n",
    "|Haddop|\n",
    "|Watson Studio|"
   ]
  },
  {
   "cell_type": "markdown",
   "id": "5d63e954",
   "metadata": {},
   "source": [
    "### Below are a few examples of evaluating arithmetic expression in Python."
   ]
  },
  {
   "cell_type": "code",
   "execution_count": 2,
   "id": "9f33e8a7",
   "metadata": {},
   "outputs": [],
   "source": [
    "# This a simple arithemetic expression to multiply then add integers"
   ]
  },
  {
   "cell_type": "code",
   "execution_count": 1,
   "id": "bcc5d1ef",
   "metadata": {},
   "outputs": [
    {
     "data": {
      "text/plain": [
       "17"
      ]
     },
     "execution_count": 1,
     "metadata": {},
     "output_type": "execute_result"
    }
   ],
   "source": [
    "(3*4)+5"
   ]
  },
  {
   "cell_type": "code",
   "execution_count": 4,
   "id": "5bcc2939",
   "metadata": {},
   "outputs": [],
   "source": [
    "# This will convert 200 minutes to hours by diving by 60"
   ]
  },
  {
   "cell_type": "code",
   "execution_count": 3,
   "id": "15ab5396",
   "metadata": {},
   "outputs": [
    {
     "data": {
      "text/plain": [
       "3.3333333333333335"
      ]
     },
     "execution_count": 3,
     "metadata": {},
     "output_type": "execute_result"
    }
   ],
   "source": [
    "200/60"
   ]
  },
  {
   "cell_type": "markdown",
   "id": "75046b49",
   "metadata": {},
   "source": [
    "## Author\n",
    "Xiaoxi Wang"
   ]
  }
 ],
 "metadata": {
  "kernelspec": {
   "display_name": "Python 3 (ipykernel)",
   "language": "python",
   "name": "python3"
  },
  "language_info": {
   "codemirror_mode": {
    "name": "ipython",
    "version": 3
   },
   "file_extension": ".py",
   "mimetype": "text/x-python",
   "name": "python",
   "nbconvert_exporter": "python",
   "pygments_lexer": "ipython3",
   "version": "3.9.13"
  }
 },
 "nbformat": 4,
 "nbformat_minor": 5
}
